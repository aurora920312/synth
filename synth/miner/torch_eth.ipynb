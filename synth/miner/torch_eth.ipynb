{
 "cells": [
  {
   "cell_type": "markdown",
   "id": "5a738948",
   "metadata": {},
   "source": [
    "# Importing requrie modules"
   ]
  },
  {
   "cell_type": "code",
   "execution_count": null,
   "id": "c575d358",
   "metadata": {},
   "outputs": [],
   "source": [
    "import pandas as pd\n",
    "import numpy as np\n",
    "import matplotlib.pyplot as plt\n",
    "import matplotlib.dates as mdates\n",
    "from sklearn.preprocessing import MinMaxScaler\n",
    "import torch\n",
    "import torch.nn as nn\n",
    "import torch.optim as optim\n",
    "from torch.utils.data import DataLoader, TensorDataset\n",
    "from torch.optim.lr_scheduler import ReduceLROnPlateau"
   ]
  },
  {
   "cell_type": "markdown",
   "id": "53c87cb0",
   "metadata": {},
   "source": [
    "# Set seed"
   ]
  },
  {
   "cell_type": "code",
   "execution_count": null,
   "id": "d825029c",
   "metadata": {},
   "outputs": [],
   "source": [
    "seed = 1234\n",
    "np.random.seed(seed)\n",
    "torch.manual_seed(seed)\n",
    "plt.style.use('ggplot')\n",
    "import warnings\n",
    "warnings.simplefilter(action='ignore', category=FutureWarning)"
   ]
  },
  {
   "cell_type": "markdown",
   "id": "81e9f449",
   "metadata": {},
   "source": [
    "# Load data"
   ]
  },
  {
   "cell_type": "code",
   "execution_count": null,
   "id": "407039b3",
   "metadata": {},
   "outputs": [],
   "source": [
    "eth = pd.read_csv('./Data/ethusd_5-min_data.csv')\n",
    "eth['Datetime'] = pd.to_datetime(eth['timestamp'], unit='s')\n",
    "eth.set_index('Datetime', inplace=True)"
   ]
  },
  {
   "cell_type": "markdown",
   "id": "b737a102",
   "metadata": {},
   "source": [
    "# Plotting data"
   ]
  },
  {
   "cell_type": "code",
   "execution_count": null,
   "id": "2446dbfb",
   "metadata": {},
   "outputs": [],
   "source": [
    "fig = plt.figure(figsize=(16, 9))\n",
    "plt.plot(eth.close)\n",
    "plt.xlabel('Date')\n",
    "plt.ylabel('Price')\n",
    "plt.gca().xaxis.set_major_formatter(mdates.DateFormatter(\"%Y\"))\n",
    "plt.title('ETH-USD')\n",
    "plt.show()"
   ]
  },
  {
   "cell_type": "markdown",
   "id": "69abd2c5",
   "metadata": {},
   "source": [
    "# Scale data"
   ]
  },
  {
   "cell_type": "code",
   "execution_count": null,
   "id": "180e4aa9",
   "metadata": {},
   "outputs": [],
   "source": [
    "eth_scaler = MinMaxScaler()\n",
    "eth_scaled = eth_scaler.fit_transform(pd.DataFrame(eth[['close']]))\n",
    "eth_len = len(eth_scaled)\n",
    "eth_train = eth_scaled[:int(eth_len * 0.8)]\n",
    "eth_val = eth_scaled[int(eth_len * 0.8):int(eth_len * 0.9)]\n",
    "eth_test = eth_scaled[int(eth_len * 0.9):]"
   ]
  },
  {
   "cell_type": "markdown",
   "id": "f24473c9",
   "metadata": {},
   "source": [
    "# Create sliding windows"
   ]
  },
  {
   "cell_type": "code",
   "execution_count": null,
   "id": "8ea1f71a",
   "metadata": {},
   "outputs": [],
   "source": [
    "def create_sliding_windows(data, lag, step=1):\n",
    "    len_data = len(data)\n",
    "    x = []\n",
    "    y = []\n",
    "    for i in range(lag * 2, len_data - lag, step):\n",
    "        x.append(data[i - lag * 2:i, 0])\n",
    "        y.append(data[i:i + lag, 0])\n",
    "    return np.array(x), np.array(y)\n",
    "\n",
    "train_x, train_y = create_sliding_windows(eth_train, 289)\n",
    "val_x, val_y = create_sliding_windows(eth_val, 289)\n",
    "test_x, test_y = create_sliding_windows(eth_test, 289, 289)"
   ]
  },
  {
   "cell_type": "markdown",
   "id": "a60b509a",
   "metadata": {},
   "source": [
    "# Convert to PyTorch tensors"
   ]
  },
  {
   "cell_type": "code",
   "execution_count": null,
   "id": "25ceafe0",
   "metadata": {},
   "outputs": [],
   "source": [
    "train_x = torch.FloatTensor(train_x).unsqueeze(-1)\n",
    "train_y = torch.FloatTensor(train_y)\n",
    "val_x = torch.FloatTensor(val_x).unsqueeze(-1)\n",
    "val_y = torch.FloatTensor(val_y)\n",
    "test_x = torch.FloatTensor(test_x).unsqueeze(-1)\n",
    "test_y = torch.FloatTensor(test_y)\n"
   ]
  },
  {
   "cell_type": "markdown",
   "id": "24d6597c",
   "metadata": {},
   "source": [
    "# Create DataLoaders"
   ]
  },
  {
   "cell_type": "code",
   "execution_count": null,
   "id": "35a01738",
   "metadata": {},
   "outputs": [],
   "source": [
    "batch_size = 126 # 8192\n",
    "train_dataset = TensorDataset(train_x, train_y)\n",
    "train_loader = DataLoader(train_dataset, batch_size=batch_size, shuffle=True)\n",
    "val_dataset = TensorDataset(val_x, val_y)\n",
    "val_loader = DataLoader(val_dataset, batch_size=batch_size)"
   ]
  },
  {
   "cell_type": "markdown",
   "id": "5c546145",
   "metadata": {},
   "source": [
    "# Define GRU model"
   ]
  },
  {
   "cell_type": "code",
   "execution_count": null,
   "id": "58c7c623",
   "metadata": {},
   "outputs": [],
   "source": [
    "class GRUModel(nn.Module):\n",
    "    def __init__(self):\n",
    "        super(GRUModel, self).__init__()\n",
    "        self.gru1 = nn.GRU(input_size=1, hidden_size=289, num_layers=1, batch_first=True)\n",
    "        self.dropout1 = nn.Dropout(0.2)\n",
    "        self.gru2 = nn.GRU(input_size=289, hidden_size=145, num_layers=1, batch_first=True)\n",
    "        self.dropout2 = nn.Dropout(0.2)\n",
    "        self.gru3 = nn.GRU(input_size=145, hidden_size=145, num_layers=1, batch_first=True)\n",
    "        self.dropout3 = nn.Dropout(0.2)\n",
    "        self.linear = nn.Linear(145, 289)\n",
    "        \n",
    "    def forward(self, x):\n",
    "        x, _ = self.gru1(x)\n",
    "        x = self.dropout1(x)\n",
    "        x, _ = self.gru2(x)\n",
    "        x = self.dropout2(x)\n",
    "        x, _ = self.gru3(x)\n",
    "        x = self.dropout3(x[:, -1, :])  # Take last output\n",
    "        return self.linear(x)\n",
    "\n",
    "device = torch.device('cuda' if torch.cuda.is_available() else 'cpu')\n",
    "model = GRUModel().to(device)\n",
    "criterion = nn.MSELoss()\n",
    "optimizer = optim.Adam(model.parameters(), lr=0.001)\n",
    "scheduler = ReduceLROnPlateau(optimizer, mode='min', factor=0.1, patience=10)"
   ]
  },
  {
   "cell_type": "markdown",
   "id": "3d3c7fb5",
   "metadata": {},
   "source": [
    "# Training loop"
   ]
  },
  {
   "cell_type": "code",
   "execution_count": null,
   "id": "e91d76ac",
   "metadata": {},
   "outputs": [],
   "source": [
    "def train_model(model, train_loader, val_loader, epochs, patience):\n",
    "    best_loss = float('inf')\n",
    "    counter = 0\n",
    "    \n",
    "    for epoch in range(epochs):\n",
    "        model.train()\n",
    "        train_loss = 0\n",
    "        for x_batch, y_batch in train_loader:\n",
    "            x_batch, y_batch = x_batch.to(device), y_batch.to(device)\n",
    "            optimizer.zero_grad()\n",
    "            output = model(x_batch)\n",
    "            loss = criterion(output, y_batch)\n",
    "            loss.backward()\n",
    "            optimizer.step()\n",
    "            train_loss += loss.item()\n",
    "        \n",
    "        model.eval()\n",
    "        val_loss = 0\n",
    "        with torch.no_grad():\n",
    "            for x_val, y_val in val_loader:\n",
    "                x_val, y_val = x_val.to(device), y_val.to(device)\n",
    "                output = model(x_val)\n",
    "                val_loss += criterion(output, y_val).item()\n",
    "        \n",
    "        avg_val_loss = val_loss / len(val_loader)\n",
    "        scheduler.step(avg_val_loss)\n",
    "        \n",
    "        # Early stopping\n",
    "        if avg_val_loss < best_loss:\n",
    "            best_loss = avg_val_loss\n",
    "            counter = 0\n",
    "            torch.save(model.state_dict(), './model/best_model.pth')\n",
    "        else:\n",
    "            counter += 1\n",
    "            if counter >= patience:\n",
    "                print(f\"Early stopping at epoch {epoch}\")\n",
    "                break\n",
    "        \n",
    "        print(f'Epoch {epoch+1}: Train Loss: {train_loss/len(train_loader):.6f}, Val Loss: {avg_val_loss:.6f}')\n",
    "\n"
   ]
  },
  {
   "cell_type": "code",
   "execution_count": null,
   "id": "532cc3e7",
   "metadata": {},
   "outputs": [],
   "source": [
    "train_model(model, train_loader, val_loader, epochs=180, patience=10)"
   ]
  }
 ],
 "metadata": {
  "kernelspec": {
   "display_name": "sn50_venv",
   "language": "python",
   "name": "python3"
  },
  "language_info": {
   "codemirror_mode": {
    "name": "ipython",
    "version": 3
   },
   "file_extension": ".py",
   "mimetype": "text/x-python",
   "name": "python",
   "nbconvert_exporter": "python",
   "pygments_lexer": "ipython3",
   "version": "3.12.10"
  }
 },
 "nbformat": 4,
 "nbformat_minor": 5
}
