{
 "cells": [
  {
   "cell_type": "code",
   "execution_count": null,
   "id": "c37880f3",
   "metadata": {},
   "outputs": [],
   "source": [
    "import pandas as pd\n",
    "import numpy as np\n",
    "import matplotlib.pyplot as plt\n",
    "import matplotlib.dates as mdates\n",
    "from sklearn.preprocessing import MinMaxScaler\n",
    "from keras.models import Sequential\n",
    "from keras.layers import Dense, Dropout, GRU\n",
    "from keras.utils import get_custom_objects\n",
    "from keras.optimizers import Adam\n",
    "from keras.callbacks import EarlyStopping, ReduceLROnPlateau"
   ]
  },
  {
   "cell_type": "code",
   "execution_count": null,
   "id": "b0ee2e26",
   "metadata": {},
   "outputs": [],
   "source": [
    "seed = 1234\n",
    "np.random.seed(seed)\n",
    "plt.style.use('ggplot')\n",
    "import warnings\n",
    "warnings.simplefilter(action='ignore', category=FutureWarning)"
   ]
  },
  {
   "cell_type": "code",
   "execution_count": null,
   "id": "d92ff0ce",
   "metadata": {},
   "outputs": [],
   "source": [
    "xau = pd.read_csv('./Data/xauusd_5-min_data.csv')\n",
    "xau['Datetime'] = pd.to_datetime(xau['Date'])\n",
    "xau.set_index('Datetime', inplace=True)"
   ]
  },
  {
   "cell_type": "code",
   "execution_count": null,
   "id": "191a6869",
   "metadata": {},
   "outputs": [],
   "source": [
    "xau_scaler = MinMaxScaler()\n",
    "xau = xau_scaler.fit_transform(pd.DataFrame(xau[['Close']]))\n",
    "xau_len = len(xau)\n",
    "xau_train = xau[:int(xau_len * 0.8)]\n",
    "xau_val = xau[int(xau_len * 0.8):int(xau_len * 0.9)]\n",
    "xau_test = xau[int(xau_len * 0.9):]"
   ]
  },
  {
   "cell_type": "code",
   "execution_count": null,
   "id": "5c6793f8",
   "metadata": {},
   "outputs": [],
   "source": [
    "def create_sliding_windows(data, lag, step = 1):\n",
    "    len_data = len(data)\n",
    "    x = []\n",
    "    y = []\n",
    "    for i in range(lag, len_data - lag, step):\n",
    "        x.append(data[i - lag:i, 0])\n",
    "        y.append(data[i:i + lag, 0])\n",
    "    return np.array(x), np.array(y)"
   ]
  },
  {
   "cell_type": "code",
   "execution_count": null,
   "id": "f7113d3e",
   "metadata": {},
   "outputs": [],
   "source": [
    "train_x, train_y = create_sliding_windows(xau_train, 289)\n",
    "val_x, val_y = create_sliding_windows(xau_val, 289)\n",
    "test_x, test_y = create_sliding_windows(xau_test, 289, 289)"
   ]
  },
  {
   "cell_type": "code",
   "execution_count": null,
   "id": "cde4c0ca",
   "metadata": {},
   "outputs": [],
   "source": [
    "def get_model() -> Sequential:\n",
    "    model = Sequential()\n",
    "    model.add(GRU(units=145, return_sequences=True, input_shape=(289,1)))\n",
    "    model.add(Dropout(0.2))\n",
    "    model.add(GRU(units=73, return_sequences=True))\n",
    "    model.add(Dropout(0.2))\n",
    "    model.add(GRU(units=73, return_sequences=False))\n",
    "    model.add(Dropout(0.2))\n",
    "    model.add(Dense(units=289))\n",
    "    model.compile(optimizer=Adam(learning_rate=0.001),loss='mean_squared_error')\n",
    "    return model\n",
    "\n",
    "def save_model(model: Sequential, filename: str):\n",
    "    model.save(f\"./model/{filename}.model\")\n",
    "\n",
    "def load_model(filename) -> Sequential:\n",
    "    model = get_model()\n",
    "    model.load_weights(f\"./model/{filename}.model\")\n",
    "    return model"
   ]
  },
  {
   "cell_type": "code",
   "execution_count": null,
   "id": "14221316",
   "metadata": {},
   "outputs": [],
   "source": [
    "model = get_model()\n",
    "callbacks = [EarlyStopping(patience=10, restore_best_weights=True), ReduceLROnPlateau(factor=0.1, patience=10)]\n",
    "model.fit(train_x, train_y, validation_data=(val_x,val_y), batch_size=8192, epochs=180, callbacks=callbacks)"
   ]
  },
  {
   "cell_type": "code",
   "execution_count": null,
   "id": "e9dbf2c7",
   "metadata": {},
   "outputs": [],
   "source": [
    "predict = model.predict(test_x)\n",
    "predict_vec = xau_scaler.inverse_transform(predict)\n",
    "pre_result = np.reshape(predict_vec, [predict_vec.shape[0] * predict_vec.shape[1]])\n",
    "test_y = np.reshape(test_y, [test_y.shape[0] * test_y.shape[1]])\n",
    "datacompare = pd.DataFrame()\n",
    "datacompare['Predict Data'] = pre_result\n",
    "datacompare['Real Data'] = test_y\n",
    "\n",
    "# Calculatre value of Root Mean Square Error \n",
    "def rmse(datatest, datapred):\n",
    "    return np.round(np.sqrt(np.mean((datapred - datatest) ** 2)), 4)\n",
    "print('Result Root Mean Square Error Prediction Model :',rmse(test_y, pre_result))\n",
    "\n",
    "def mape(datatest, datapred): \n",
    "    return np.round(np.mean(np.abs((datatest - datapred) / datatest) * 100), 4)\n",
    "    \n",
    "print('Result Mean Absolute Percentage Error Prediction Model : ', mape(test_y, pre_result), '%')\n",
    "# Create graph data test and prediction result\n",
    "plt.figure(num=None, figsize=(300, 40), dpi=80,facecolor='w', edgecolor='k')\n",
    "plt.title('Graph Comparison Data Actual and Data Prediction')\n",
    "plt.plot(datacompare['Predict Data'], color='red',label='Predict Data')\n",
    "plt.plot(datacompare['Real Data'], color='blue',label='Real Data')\n",
    "plt.xlabel('Day')\n",
    "plt.ylabel('Price')\n",
    "plt.legend()\n",
    "plt.show()"
   ]
  }
 ],
 "metadata": {
  "kernelspec": {
   "display_name": "bt_venv",
   "language": "python",
   "name": "python3"
  },
  "language_info": {
   "codemirror_mode": {
    "name": "ipython",
    "version": 3
   },
   "file_extension": ".py",
   "mimetype": "text/x-python",
   "name": "python",
   "nbconvert_exporter": "python",
   "pygments_lexer": "ipython3",
   "version": "3.12.11"
  }
 },
 "nbformat": 4,
 "nbformat_minor": 5
}
