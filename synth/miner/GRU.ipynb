{
 "cells": [
  {
   "cell_type": "code",
   "execution_count": null,
   "id": "731bc21a",
   "metadata": {},
   "outputs": [],
   "source": [
    "import pandas as pd\n",
    "import numpy as np\n",
    "import matplotlib.pyplot as plt\n",
    "import matplotlib.dates as mdates\n",
    "from sklearn.preprocessing import MinMaxScaler\n",
    "from keras.models import Sequential\n",
    "from keras.layers import Dense, Dropout, GRU, Activation\n",
    "from keras import optimizers \n",
    "from keras.activations import tanh\n",
    "from keras.utils import get_custom_objects\n",
    "\n",
    "seed = 1234\n",
    "np.random.seed(seed)\n",
    "plt.style.use('ggplot')\n",
    "import warnings\n",
    "warnings.simplefilter(action='ignore', category=FutureWarning)"
   ]
  },
  {
   "cell_type": "code",
   "execution_count": null,
   "id": "14c6870a",
   "metadata": {},
   "outputs": [],
   "source": [
    "dataraw = pd.read_csv('./BTC-USD.csv',index_col='Date', parse_dates=['Date'])\n",
    "dataraw = pd.DataFrame(dataraw, )"
   ]
  },
  {
   "cell_type": "code",
   "execution_count": null,
   "id": "88c84bfe",
   "metadata": {},
   "outputs": [],
   "source": [
    "dataraw = pd.read_csv('./Data/btcusd_5-min_data.csv')\n",
    "dataraw['datetime'] = pd.to_datetime(dataraw['Timestamp'], unit='s')\n",
    "dataraw.set_index('datetime', inplace=True)"
   ]
  },
  {
   "cell_type": "code",
   "execution_count": null,
   "id": "2cc5218f",
   "metadata": {},
   "outputs": [],
   "source": [
    "# use feature 'Date' & 'Close'\n",
    "dataset = pd.DataFrame(dataraw['Close'])\n",
    "print(' Count row of data: ',len(dataset))\n",
    "\n",
    "fig = plt.figure(figsize=(14, 6))\n",
    "plt.plot(dataset)\n",
    "plt.xlabel('Date')\n",
    "plt.ylabel('Bitcoin Price')\n",
    "plt.gca().xaxis.set_major_formatter(mdates.DateFormatter(\"%Y-%m\"))\n",
    "plt.title('Bitcoin Price')\n",
    "plt.show()"
   ]
  },
  {
   "cell_type": "code",
   "execution_count": null,
   "id": "32d3043b",
   "metadata": {},
   "outputs": [],
   "source": [
    "#Min-Max Normalization\n",
    "dataset_norm = dataset.copy()\n",
    "dataset[['Close']]\n",
    "scaler = MinMaxScaler()\n",
    "dataset_norm['Close'] = scaler.fit_transform(dataset[['Close']])\n",
    "dataset_norm"
   ]
  },
  {
   "cell_type": "code",
   "execution_count": null,
   "id": "07462acd",
   "metadata": {},
   "outputs": [],
   "source": [
    "fig = plt.figure(figsize=(10, 4))\n",
    "plt.plot(dataset_norm)\n",
    "plt.xlabel('Date')\n",
    "plt.gca().xaxis.set_major_formatter(mdates.DateFormatter(\"%Y-%m\"))\n",
    "plt.title('Data Normalized')\n",
    "plt.show()"
   ]
  },
  {
   "cell_type": "code",
   "execution_count": null,
   "id": "ddd14d35",
   "metadata": {},
   "outputs": [],
   "source": [
    "# Partition data into data train, val & test\n",
    "totaldata = dataset.values\n",
    "totaldatatest = int(len(totaldata)*0.1)\n",
    "totaldataval = int(len(totaldata)*0.1)\n",
    "totaldatatrain = int(len(totaldata)*0.8)\n",
    "\n",
    "# Store data into each partition\n",
    "test_set = dataset_norm[0:totaldatatest]\n",
    "val_set=dataset_norm[totaldatatest:totaldatatest+totaldataval]\n",
    "training_set = dataset_norm[totaldatatest+totaldataval:]"
   ]
  },
  {
   "cell_type": "code",
   "execution_count": null,
   "id": "faffce92",
   "metadata": {},
   "outputs": [],
   "source": [
    "# graph of data training\n",
    "fig = plt.figure(figsize=(10, 4))\n",
    "plt.plot(training_set)\n",
    "plt.xlabel('Date')\n",
    "plt.gca().xaxis.set_major_formatter(mdates.DateFormatter(\"%Y-%m\"))\n",
    "plt.title('Data Training')\n",
    "plt.show()"
   ]
  },
  {
   "cell_type": "code",
   "execution_count": null,
   "id": "1f706202",
   "metadata": {},
   "outputs": [],
   "source": [
    "# Initiaton value of lag\n",
    "lag = 289\n",
    "# sliding windows function\n",
    "def create_sliding_windows(data,len_data,lag):\n",
    "    x=[]\n",
    "    y=[]\n",
    "    for i in range(lag, len_data - lag):\n",
    "        x.append(data[i - lag: i, 0])\n",
    "        y.append(data[i : i + lag,0]) \n",
    "        \n",
    "    return np.array(x),np.array(y)\n",
    "\n",
    "# Formating data into array for create sliding windows\n",
    "array_training_set = np.array(training_set)\n",
    "array_val_set = np.array(val_set)\n",
    "array_test_set = np.array(test_set)\n",
    "\n",
    "# Create sliding windows into training data\n",
    "x_train, y_train = create_sliding_windows(array_training_set,len(array_training_set), lag)\n",
    "x_train = np.reshape(x_train, (x_train.shape[0],x_train.shape[1],1))\n",
    "# Create sliding windows into validation data\n",
    "x_val,y_val = create_sliding_windows(array_val_set,len(array_val_set),lag)\n",
    "x_val = np.reshape(x_val, (x_val.shape[0],x_val.shape[1],1))\n",
    "# Create sliding windows into test data\n",
    "x_test,y_test = create_sliding_windows(array_test_set,len(array_test_set),lag)\n",
    "x_test = np.reshape(x_test, (x_test.shape[0],x_test.shape[1],1))\n"
   ]
  },
  {
   "cell_type": "code",
   "execution_count": null,
   "id": "132b0ab9",
   "metadata": {},
   "outputs": [],
   "source": [
    "class Double_Tanh(Activation):\n",
    "    def __init__(self, activation, **kwargs):\n",
    "        super(Double_Tanh, self).__init__(activation, **kwargs)\n",
    "        self.__name__ = 'double_tanh'\n",
    "\n",
    "def double_tanh(x):\n",
    "    return (tanh(x) * 2)\n",
    "\n",
    "get_custom_objects().update({'double_tanh':Double_Tanh(double_tanh)})"
   ]
  },
  {
   "cell_type": "code",
   "execution_count": null,
   "id": "c970a4f7",
   "metadata": {},
   "outputs": [],
   "source": [
    "from keras.layers import RepeatVector\n",
    "from keras.callbacks import EarlyStopping, ReduceLROnPlateau\n",
    "# Hyperparameters\n",
    "learning_rate = 0.001\n",
    "hidden_unit = 256\n",
    "batch_size=3000\n",
    "epoch = 100\n",
    "\n",
    "# Architecture Gated Recurrent Unit\n",
    "regressorGRU = Sequential()\n",
    "\n",
    "# First GRU layer with dropout\n",
    "regressorGRU.add(GRU(units=145, return_sequences=True, input_shape=(x_train.shape[1],1)))\n",
    "regressorGRU.add(Dropout(0.2))\n",
    "# Second GRU layer with dropout\n",
    "regressorGRU.add(GRU(units=73, return_sequences=True))\n",
    "regressorGRU.add(Dropout(0.2))\n",
    "# Third GRU layer with dropout\n",
    "regressorGRU.add(GRU(units=73, return_sequences=False))\n",
    "regressorGRU.add(Dropout(0.2))\n",
    "\n",
    "# Output layer\n",
    "regressorGRU.add(Dense(units=289))\n",
    "\n",
    "\n",
    "# Compiling the Gated Recurrent Unit\n",
    "regressorGRU.compile(optimizer=optimizers.Adam(learning_rate=learning_rate),loss='mean_squared_error')\n",
    "print(x_train.shape[1],1)\n",
    "regressorGRU.summary()\n",
    "callbacks = [EarlyStopping(patience=15, restore_best_weights=True), ReduceLROnPlateau(factor=0.1, patience=10)]\n",
    "# Fitting ke data training dan data validation\n",
    "pred = regressorGRU.fit(x_train, y_train, validation_data=(x_val,y_val), batch_size=batch_size, epochs=epoch, callbacks=callbacks)"
   ]
  },
  {
   "cell_type": "code",
   "execution_count": null,
   "id": "2040008f",
   "metadata": {},
   "outputs": [],
   "source": [
    "# Graph model loss (train loss & val loss)\n",
    "fig = plt.figure(figsize=(10, 4))\n",
    "plt.plot(pred.history['loss'], label='train loss')\n",
    "plt.plot(pred.history['val_loss'], label='val loss')\n",
    "plt.title('model loss')\n",
    "plt.ylabel('loss')\n",
    "plt.xlabel('epoch')\n",
    "plt.legend(loc='upper right')\n",
    "plt.show()"
   ]
  },
  {
   "cell_type": "code",
   "execution_count": null,
   "id": "f74d1134",
   "metadata": {},
   "outputs": [],
   "source": [
    "# Implementation model into data test\n",
    "y_pred_test = regressorGRU.predict(x_test)\n",
    "\n",
    "# Invert normalization min-max\n",
    "y_pred_invert_norm = scaler.inverse_transform(y_pred_test)"
   ]
  },
  {
   "cell_type": "code",
   "execution_count": null,
   "id": "3def7993",
   "metadata": {},
   "outputs": [],
   "source": [
    "y_pred_invert_norm.shape, x_test.shape"
   ]
  },
  {
   "cell_type": "code",
   "execution_count": null,
   "id": "8c630c1e",
   "metadata": {},
   "outputs": [],
   "source": [
    "_y = np.reshape(y_pred_invert_norm, [y_pred_invert_norm.shape[0] * y_pred_invert_norm.shape[1]])\n",
    "_y.shape"
   ]
  },
  {
   "cell_type": "code",
   "execution_count": null,
   "id": "4d4b84fc",
   "metadata": {},
   "outputs": [],
   "source": [
    "# Comparison data test with data prediction\n",
    "datacompare = pd.DataFrame()\n",
    "datatest=np.array(dataset['Close'][-203328:])\n",
    "datapred= _y\n",
    "\n",
    "datacompare['Data Test'] = datatest\n",
    "datacompare['Prediction Results'] = datapred\n",
    "# Calculatre value of Root Mean Square Error \n",
    "def rmse(datatest, datapred):\n",
    "    return np.round(np.sqrt(np.mean((datapred - datatest) ** 2)), 4)\n",
    "print('Result Root Mean Square Error Prediction Model :',rmse(datatest, datapred))\n",
    "\n",
    "def mape(datatest, datapred): \n",
    "    return np.round(np.mean(np.abs((datatest - datapred) / datatest) * 100), 4)\n",
    "    \n",
    "print('Result Mean Absolute Percentage Error Prediction Model : ', mape(datatest, datapred), '%')"
   ]
  },
  {
   "cell_type": "code",
   "execution_count": null,
   "id": "88826d7a",
   "metadata": {},
   "outputs": [],
   "source": [
    "# Create graph data test and prediction result\n",
    "plt.figure(num=None, figsize=(300, 40), dpi=80,facecolor='w', edgecolor='k')\n",
    "plt.title('Graph Comparison Data Actual and Data Prediction')\n",
    "plt.plot(datacompare['Data Test'], color='red',label='Data Test')\n",
    "plt.plot(datacompare['Prediction Results'], color='blue',label='Prediction Results')\n",
    "plt.xlabel('Day')\n",
    "plt.ylabel('Price')\n",
    "plt.legend()\n",
    "plt.show()"
   ]
  }
 ],
 "metadata": {
  "kernelspec": {
   "display_name": "bt_venv",
   "language": "python",
   "name": "python3"
  },
  "language_info": {
   "codemirror_mode": {
    "name": "ipython",
    "version": 3
   },
   "file_extension": ".py",
   "mimetype": "text/x-python",
   "name": "python",
   "nbconvert_exporter": "python",
   "pygments_lexer": "ipython3",
   "version": "3.10.11"
  }
 },
 "nbformat": 4,
 "nbformat_minor": 5
}
