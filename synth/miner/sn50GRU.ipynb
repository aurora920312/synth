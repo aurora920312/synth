{
 "cells": [
  {
   "cell_type": "markdown",
   "id": "4c84f73a",
   "metadata": {},
   "source": [
    "Importing require modules"
   ]
  },
  {
   "cell_type": "code",
   "execution_count": null,
   "id": "b4286371",
   "metadata": {},
   "outputs": [
    {
     "ename": "ImportError",
     "evalue": "cannot import name 'Activateion' from 'keras.layers' (e:\\synth\\bt_venv\\lib\\site-packages\\keras\\layers\\__init__.py)",
     "output_type": "error",
     "traceback": [
      "\u001b[1;31m---------------------------------------------------------------------------\u001b[0m",
      "\u001b[1;31mImportError\u001b[0m                               Traceback (most recent call last)",
      "Cell \u001b[1;32mIn[1], line 7\u001b[0m\n\u001b[0;32m      5\u001b[0m \u001b[38;5;28;01mfrom\u001b[39;00m\u001b[38;5;250m \u001b[39m\u001b[38;5;21;01msklearn\u001b[39;00m\u001b[38;5;21;01m.\u001b[39;00m\u001b[38;5;21;01mpreprocessing\u001b[39;00m\u001b[38;5;250m \u001b[39m\u001b[38;5;28;01mimport\u001b[39;00m MinMaxScaler\n\u001b[0;32m      6\u001b[0m \u001b[38;5;28;01mfrom\u001b[39;00m\u001b[38;5;250m \u001b[39m\u001b[38;5;21;01mkeras\u001b[39;00m\u001b[38;5;21;01m.\u001b[39;00m\u001b[38;5;21;01mmodels\u001b[39;00m\u001b[38;5;250m \u001b[39m\u001b[38;5;28;01mimport\u001b[39;00m Sequential\n\u001b[1;32m----> 7\u001b[0m \u001b[38;5;28;01mfrom\u001b[39;00m\u001b[38;5;250m \u001b[39m\u001b[38;5;21;01mkeras\u001b[39;00m\u001b[38;5;21;01m.\u001b[39;00m\u001b[38;5;21;01mlayers\u001b[39;00m\u001b[38;5;250m \u001b[39m\u001b[38;5;28;01mimport\u001b[39;00m Dense, Dropout, GRU, Activateion\n\u001b[0;32m      8\u001b[0m \u001b[38;5;28;01mfrom\u001b[39;00m\u001b[38;5;250m \u001b[39m\u001b[38;5;21;01mkeras\u001b[39;00m\u001b[38;5;21;01m.\u001b[39;00m\u001b[38;5;21;01mutils\u001b[39;00m\u001b[38;5;250m \u001b[39m\u001b[38;5;28;01mimport\u001b[39;00m get_custom_objects\n\u001b[0;32m      9\u001b[0m \u001b[38;5;28;01mfrom\u001b[39;00m\u001b[38;5;250m \u001b[39m\u001b[38;5;21;01mkeras\u001b[39;00m\u001b[38;5;21;01m.\u001b[39;00m\u001b[38;5;21;01mcallbacks\u001b[39;00m\u001b[38;5;250m \u001b[39m\u001b[38;5;28;01mimport\u001b[39;00m EarlyStopping, ReduceLROnPlateau\n",
      "\u001b[1;31mImportError\u001b[0m: cannot import name 'Activateion' from 'keras.layers' (e:\\synth\\bt_venv\\lib\\site-packages\\keras\\layers\\__init__.py)"
     ]
    }
   ],
   "source": [
    "import pandas as pd\n",
    "import numpy as np\n",
    "import matplotlib.pyplot as plt\n",
    "import matplotlib.dates as mdates\n",
    "from sklearn.preprocessing import MinMaxScaler\n",
    "from keras.models import Sequential\n",
    "from keras.layers import Dense, Dropout, GRU, Activation\n",
    "from keras.utils import get_custom_objects\n",
    "from keras.callbacks import EarlyStopping, ReduceLROnPlateau"
   ]
  },
  {
   "cell_type": "code",
   "execution_count": null,
   "id": "1d4acb28",
   "metadata": {},
   "outputs": [],
   "source": [
    "seed = 1234\n",
    "np.random.seed(seed)\n",
    "plt.style.use('ggplot')\n",
    "import warnings\n",
    "warnings.simplefilter(action='ignore', category=FutureWarning)"
   ]
  },
  {
   "cell_type": "markdown",
   "id": "92da7f4b",
   "metadata": {},
   "source": [
    "Loading Data (BTC, ETH, XAU, SOL - USD - 5 minute interval data)"
   ]
  },
  {
   "cell_type": "code",
   "execution_count": null,
   "id": "d6b1563b",
   "metadata": {},
   "outputs": [],
   "source": [
    "btc = pd.read_csv('./Data/btcusd_5-min_data.csv')\n",
    "btc['Datetime'] = pd.to_datetime(btc['Timestamp'], unit='s')\n",
    "btc.set_index('Datetime', inplace=True)\n",
    "eth = pd.read_csv('./Data/ethusd_5-min_data.csv')\n",
    "eth['Datetime'] = pd.to_datetime(eth['timestamp'], unit='s')\n",
    "eth.set_index('Datetime', inplace=True)\n",
    "xau = pd.read_csv('./Data/xauusd_5-min_data.csv')\n",
    "xau['Datetime'] = pd.to_datetime(xau['Date'])\n",
    "xau.set_index('Datetime', inplace=True)\n",
    "sol = pd.read_csv('./Data/solusd_5-min_data.csv')\n",
    "sol['Datetime'] = pd.to_datetime(sol['Timestamp'], unit='s')\n",
    "sol.set_index('Datetime', inplace=False)"
   ]
  },
  {
   "cell_type": "markdown",
   "id": "b6766da2",
   "metadata": {},
   "source": [
    "Draw BTC-USD, ETH-USD, XAU-USD, SOL-USD data"
   ]
  },
  {
   "cell_type": "code",
   "execution_count": null,
   "id": "195763ea",
   "metadata": {},
   "outputs": [],
   "source": [
    "fig = plt.figure(figsize=(10, 4))\n",
    "plt.plot(btc.)\n",
    "plt.xlabel('Date')\n",
    "plt.gca().xaxis.set_major_formatter(mdates.DateFormatter(\"%Y-%m\"))\n",
    "plt.title('Data Normalized')\n",
    "plt.show()"
   ]
  }
 ],
 "metadata": {
  "kernelspec": {
   "display_name": "bt_venv",
   "language": "python",
   "name": "python3"
  },
  "language_info": {
   "codemirror_mode": {
    "name": "ipython",
    "version": 3
   },
   "file_extension": ".py",
   "mimetype": "text/x-python",
   "name": "python",
   "nbconvert_exporter": "python",
   "pygments_lexer": "ipython3",
   "version": "3.10.11"
  }
 },
 "nbformat": 4,
 "nbformat_minor": 5
}
